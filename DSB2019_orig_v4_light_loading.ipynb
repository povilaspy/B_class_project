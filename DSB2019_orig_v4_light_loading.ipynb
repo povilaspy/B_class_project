{
 "cells": [
  {
   "cell_type": "markdown",
   "metadata": {},
   "source": [
    "# Importing libraries"
   ]
  },
  {
   "cell_type": "code",
   "execution_count": 2,
   "metadata": {},
   "outputs": [],
   "source": [
    "import pandas as pd\n",
    "import numpy as np\n",
    "from time import time\n",
    "import datetime as dt\n",
    "from sklearn.ensemble import RandomForestClassifier\n",
    "import matplotlib.pyplot as plt\n",
    "import seaborn as sns\n",
    "from xgboost import XGBClassifier"
   ]
  },
  {
   "cell_type": "markdown",
   "metadata": {},
   "source": [
    "# Getting data"
   ]
  },
  {
   "cell_type": "code",
   "execution_count": 5,
   "metadata": {
    "_cell_guid": "79c7e3d0-c299-4dcb-8224-4455121ee9b0",
    "_uuid": "d629ff2d2480ee46fbb7e2d37f6b5fab8052498a"
   },
   "outputs": [
    {
     "name": "stdout",
     "output_type": "stream",
     "text": [
      "Loading datasets...\n",
      "Datasets loaded successfully! \n",
      "Loading time: 55.04 s\n"
     ]
    }
   ],
   "source": [
    "# removing 'event_data' from loading data to save RAM\n",
    "\n",
    "load_columns = ['event_id',\n",
    "                'game_session',\n",
    "                'timestamp',                \n",
    "                'installation_id',\n",
    "                'event_count',\n",
    "                'event_code',\n",
    "                'game_time',\n",
    "                'title',\n",
    "                'type',\n",
    "                'world']\n",
    "\n",
    "path = '/kaggle/input/data-science-bowl-2019/' \n",
    "\n",
    "t0 = time()\n",
    "\n",
    "print('Loading datasets...')\n",
    "X_train = pd.read_csv(path + 'train.csv', usecols = load_columns) # skip event_data \n",
    "X_labels = pd.read_csv(path + 'train_labels.csv') # all users labels\n",
    "X_test = pd.read_csv(path + 'test.csv', usecols = load_columns)\n",
    "submission = pd.read_csv(path + 'sample_submission.csv')\n",
    "print(\"Datasets loaded successfully! \\nLoading time:\", round(time()-t0, 3), \"s\")"
   ]
  },
  {
   "cell_type": "markdown",
   "metadata": {},
   "source": [
    "# Data preprocessing"
   ]
  },
  {
   "cell_type": "markdown",
   "metadata": {},
   "source": [
    "#### Reducing train df with users having accuracy scores"
   ]
  },
  {
   "cell_type": "code",
   "execution_count": 6,
   "metadata": {},
   "outputs": [],
   "source": [
    "# Updating X_train with data about users who have accuracy score\n",
    "X_train = X_train[X_train['installation_id'].isin(set(X_labels.installation_id))]"
   ]
  },
  {
   "cell_type": "markdown",
   "metadata": {},
   "source": [
    "#### Encoding categorical features of train & test"
   ]
  },
  {
   "cell_type": "code",
   "execution_count": 8,
   "metadata": {},
   "outputs": [],
   "source": [
    "# Kaggle crashes at 16GB RAM usage\n",
    "# This Kernel will have less features vs Colab version\n",
    "\n",
    "# 1. Cast categorical variables into pandas categorical data type\n",
    "X_train['world'] = pd.Categorical(X_train['world'])\n",
    "X_train['title'] = pd.Categorical(X_train['title'])\n",
    "X_train['type'] = pd.Categorical(X_train['type'])\n",
    "\n",
    "X_test['world'] = pd.Categorical(X_test['world'])\n",
    "X_test['title'] = pd.Categorical(X_test['title'])\n",
    "X_test['type'] = pd.Categorical(X_test['type'])"
   ]
  },
  {
   "cell_type": "code",
   "execution_count": 9,
   "metadata": {},
   "outputs": [],
   "source": [
    "# 2. Convert categorical variables into dummy/indicator variables\n",
    "# Also drop the encoded columns\n",
    "X_train = pd.get_dummies(data = X_train, columns=['world', 'title', 'type'], prefix = 'dummy')\n",
    "X_test = pd.get_dummies(data = X_test, columns=['world', 'title', 'type'], prefix = 'dummy')"
   ]
  },
  {
   "cell_type": "markdown",
   "metadata": {},
   "source": [
    "#### Sum / last train & test dfs game_time and event_count"
   ]
  },
  {
   "cell_type": "code",
   "execution_count": 10,
   "metadata": {},
   "outputs": [],
   "source": [
    "X_train['game_time_total'] = X_train.groupby('installation_id')['game_time'].transform('last') # not sure if game_time accumulates or separate for each game session\n",
    "X_test['game_time_total'] = X_test.groupby('installation_id')['game_time'].transform('last') # not sure if game_time accumulates or separate for each game session"
   ]
  },
  {
   "cell_type": "code",
   "execution_count": null,
   "metadata": {},
   "outputs": [],
   "source": [
    "X_train['event_count_total'] = X_train.groupby('installation_id')['event_count'].transform('sum')\n",
    "X_test['event_count_total'] = X_test.groupby('installation_id')['event_count'].transform('sum')"
   ]
  },
  {
   "cell_type": "markdown",
   "metadata": {},
   "source": [
    "#### Taking last assessment accuracy group at train_labels"
   ]
  },
  {
   "cell_type": "code",
   "execution_count": 11,
   "metadata": {},
   "outputs": [],
   "source": [
    "X_labels['Y_target'] = X_labels.groupby('installation_id')['accuracy_group'].transform('last')"
   ]
  },
  {
   "cell_type": "code",
   "execution_count": null,
   "metadata": {},
   "outputs": [],
   "source": [
    "X_labels.head()"
   ]
  },
  {
   "cell_type": "markdown",
   "metadata": {},
   "source": [
    "#### Dropping unusused columns in train, test & train_labels which are encoded"
   ]
  },
  {
   "cell_type": "code",
   "execution_count": null,
   "metadata": {},
   "outputs": [],
   "source": [
    "X_train.head()"
   ]
  },
  {
   "cell_type": "code",
   "execution_count": 13,
   "metadata": {
    "_kg_hide-output": true
   },
   "outputs": [],
   "source": [
    "# v2: event data was not even loaded to save memory\n",
    "X_train = X_train.drop(['event_id', 'game_session', 'timestamp', 'event_count', 'event_code', 'game_time'], axis=1) # dp: event_code dropped just for Kaggle to save memory\n",
    "X_test = X_test.drop(['event_id', 'game_session', 'timestamp', 'event_count',  'event_code', 'game_time'], axis=1) # dp: event_code dropped just for Kaggle to save memory\n",
    "X_labels = X_labels.drop(['game_session', 'title', 'num_correct', 'num_incorrect', 'accuracy', 'accuracy_group'], axis=1) # havent included separate title (Sorter, etc) correct/incorrect/accuracy "
   ]
  },
  {
   "cell_type": "code",
   "execution_count": 14,
   "metadata": {},
   "outputs": [
    {
     "data": {
      "text/plain": [
       "((7734558, 54), (1156414, 54), (17690, 2))"
      ]
     },
     "execution_count": 14,
     "metadata": {},
     "output_type": "execute_result"
    }
   ],
   "source": [
    "X_train.shape, X_test.shape, X_labels.shape"
   ]
  },
  {
   "cell_type": "code",
   "execution_count": 15,
   "metadata": {},
   "outputs": [
    {
     "data": {
      "text/html": [
       "<div>\n",
       "<style scoped>\n",
       "    .dataframe tbody tr th:only-of-type {\n",
       "        vertical-align: middle;\n",
       "    }\n",
       "\n",
       "    .dataframe tbody tr th {\n",
       "        vertical-align: top;\n",
       "    }\n",
       "\n",
       "    .dataframe thead th {\n",
       "        text-align: right;\n",
       "    }\n",
       "</style>\n",
       "<table border=\"1\" class=\"dataframe\">\n",
       "  <thead>\n",
       "    <tr style=\"text-align: right;\">\n",
       "      <th></th>\n",
       "      <th>installation_id</th>\n",
       "      <th>dummy_CRYSTALCAVES</th>\n",
       "      <th>dummy_MAGMAPEAK</th>\n",
       "      <th>dummy_NONE</th>\n",
       "      <th>dummy_TREETOPCITY</th>\n",
       "      <th>dummy_12 Monkeys</th>\n",
       "      <th>dummy_Air Show</th>\n",
       "      <th>dummy_All Star Sorting</th>\n",
       "      <th>dummy_Balancing Act</th>\n",
       "      <th>dummy_Bird Measurer (Assessment)</th>\n",
       "      <th>...</th>\n",
       "      <th>dummy_Tree Top City - Level 1</th>\n",
       "      <th>dummy_Tree Top City - Level 2</th>\n",
       "      <th>dummy_Tree Top City - Level 3</th>\n",
       "      <th>dummy_Watering Hole (Activity)</th>\n",
       "      <th>dummy_Welcome to Lost Lagoon!</th>\n",
       "      <th>dummy_Activity</th>\n",
       "      <th>dummy_Assessment</th>\n",
       "      <th>dummy_Clip</th>\n",
       "      <th>dummy_Game</th>\n",
       "      <th>event_count_total</th>\n",
       "    </tr>\n",
       "  </thead>\n",
       "  <tbody>\n",
       "    <tr>\n",
       "      <th>1538</th>\n",
       "      <td>0006a69f</td>\n",
       "      <td>0</td>\n",
       "      <td>0</td>\n",
       "      <td>1</td>\n",
       "      <td>0</td>\n",
       "      <td>0</td>\n",
       "      <td>0</td>\n",
       "      <td>0</td>\n",
       "      <td>0</td>\n",
       "      <td>0</td>\n",
       "      <td>...</td>\n",
       "      <td>0</td>\n",
       "      <td>0</td>\n",
       "      <td>0</td>\n",
       "      <td>0</td>\n",
       "      <td>1</td>\n",
       "      <td>0</td>\n",
       "      <td>0</td>\n",
       "      <td>1</td>\n",
       "      <td>0</td>\n",
       "      <td>226162</td>\n",
       "    </tr>\n",
       "    <tr>\n",
       "      <th>1539</th>\n",
       "      <td>0006a69f</td>\n",
       "      <td>0</td>\n",
       "      <td>1</td>\n",
       "      <td>0</td>\n",
       "      <td>0</td>\n",
       "      <td>0</td>\n",
       "      <td>0</td>\n",
       "      <td>0</td>\n",
       "      <td>0</td>\n",
       "      <td>0</td>\n",
       "      <td>...</td>\n",
       "      <td>0</td>\n",
       "      <td>0</td>\n",
       "      <td>0</td>\n",
       "      <td>0</td>\n",
       "      <td>0</td>\n",
       "      <td>0</td>\n",
       "      <td>0</td>\n",
       "      <td>1</td>\n",
       "      <td>0</td>\n",
       "      <td>226162</td>\n",
       "    </tr>\n",
       "  </tbody>\n",
       "</table>\n",
       "<p>2 rows × 54 columns</p>\n",
       "</div>"
      ],
      "text/plain": [
       "     installation_id  dummy_CRYSTALCAVES  dummy_MAGMAPEAK  dummy_NONE  \\\n",
       "1538        0006a69f                   0                0           1   \n",
       "1539        0006a69f                   0                1           0   \n",
       "\n",
       "      dummy_TREETOPCITY  dummy_12 Monkeys  dummy_Air Show  \\\n",
       "1538                  0                 0               0   \n",
       "1539                  0                 0               0   \n",
       "\n",
       "      dummy_All Star Sorting  dummy_Balancing Act  \\\n",
       "1538                       0                    0   \n",
       "1539                       0                    0   \n",
       "\n",
       "      dummy_Bird Measurer (Assessment)  ...  dummy_Tree Top City - Level 1  \\\n",
       "1538                                 0  ...                              0   \n",
       "1539                                 0  ...                              0   \n",
       "\n",
       "      dummy_Tree Top City - Level 2  dummy_Tree Top City - Level 3  \\\n",
       "1538                              0                              0   \n",
       "1539                              0                              0   \n",
       "\n",
       "      dummy_Watering Hole (Activity)  dummy_Welcome to Lost Lagoon!  \\\n",
       "1538                               0                              1   \n",
       "1539                               0                              0   \n",
       "\n",
       "      dummy_Activity  dummy_Assessment  dummy_Clip  dummy_Game  \\\n",
       "1538               0                 0           1           0   \n",
       "1539               0                 0           1           0   \n",
       "\n",
       "      event_count_total  \n",
       "1538             226162  \n",
       "1539             226162  \n",
       "\n",
       "[2 rows x 54 columns]"
      ]
     },
     "execution_count": 15,
     "metadata": {},
     "output_type": "execute_result"
    }
   ],
   "source": [
    "X_train.head(2)"
   ]
  },
  {
   "cell_type": "markdown",
   "metadata": {},
   "source": [
    "#### Grouping train and test dfs"
   ]
  },
  {
   "cell_type": "code",
   "execution_count": 16,
   "metadata": {},
   "outputs": [],
   "source": [
    "X_train = X_train.groupby('installation_id').agg(sum)"
   ]
  },
  {
   "cell_type": "code",
   "execution_count": 17,
   "metadata": {},
   "outputs": [],
   "source": [
    "X_test = X_test.groupby('installation_id').agg(sum) "
   ]
  },
  {
   "cell_type": "code",
   "execution_count": null,
   "metadata": {},
   "outputs": [],
   "source": [
    "X_test.head(2)"
   ]
  },
  {
   "cell_type": "markdown",
   "metadata": {},
   "source": [
    "#### Grouping users in X_labels by the last assessment accuracy group"
   ]
  },
  {
   "cell_type": "code",
   "execution_count": 18,
   "metadata": {},
   "outputs": [],
   "source": [
    "X_labels = X_labels.groupby('installation_id').last() "
   ]
  },
  {
   "cell_type": "code",
   "execution_count": null,
   "metadata": {},
   "outputs": [],
   "source": [
    "X_labels.head()"
   ]
  },
  {
   "cell_type": "markdown",
   "metadata": {},
   "source": [
    "#### Merge train with train_labels"
   ]
  },
  {
   "cell_type": "code",
   "execution_count": 19,
   "metadata": {},
   "outputs": [],
   "source": [
    "X_train = pd.merge(X_train, X_labels, how = 'left', on = ['installation_id'])"
   ]
  },
  {
   "cell_type": "code",
   "execution_count": 20,
   "metadata": {},
   "outputs": [
    {
     "data": {
      "text/plain": [
       "(3614, 54)"
      ]
     },
     "execution_count": 20,
     "metadata": {},
     "output_type": "execute_result"
    }
   ],
   "source": [
    "X_train.shape"
   ]
  },
  {
   "cell_type": "code",
   "execution_count": 21,
   "metadata": {},
   "outputs": [
    {
     "data": {
      "text/html": [
       "<div>\n",
       "<style scoped>\n",
       "    .dataframe tbody tr th:only-of-type {\n",
       "        vertical-align: middle;\n",
       "    }\n",
       "\n",
       "    .dataframe tbody tr th {\n",
       "        vertical-align: top;\n",
       "    }\n",
       "\n",
       "    .dataframe thead th {\n",
       "        text-align: right;\n",
       "    }\n",
       "</style>\n",
       "<table border=\"1\" class=\"dataframe\">\n",
       "  <thead>\n",
       "    <tr style=\"text-align: right;\">\n",
       "      <th></th>\n",
       "      <th>dummy_CRYSTALCAVES</th>\n",
       "      <th>dummy_MAGMAPEAK</th>\n",
       "      <th>dummy_NONE</th>\n",
       "      <th>dummy_TREETOPCITY</th>\n",
       "      <th>dummy_12 Monkeys</th>\n",
       "      <th>dummy_Air Show</th>\n",
       "      <th>dummy_All Star Sorting</th>\n",
       "      <th>dummy_Balancing Act</th>\n",
       "      <th>dummy_Bird Measurer (Assessment)</th>\n",
       "      <th>dummy_Bottle Filler (Activity)</th>\n",
       "      <th>...</th>\n",
       "      <th>dummy_Tree Top City - Level 2</th>\n",
       "      <th>dummy_Tree Top City - Level 3</th>\n",
       "      <th>dummy_Watering Hole (Activity)</th>\n",
       "      <th>dummy_Welcome to Lost Lagoon!</th>\n",
       "      <th>dummy_Activity</th>\n",
       "      <th>dummy_Assessment</th>\n",
       "      <th>dummy_Clip</th>\n",
       "      <th>dummy_Game</th>\n",
       "      <th>event_count_total</th>\n",
       "      <th>Y_target</th>\n",
       "    </tr>\n",
       "    <tr>\n",
       "      <th>installation_id</th>\n",
       "      <th></th>\n",
       "      <th></th>\n",
       "      <th></th>\n",
       "      <th></th>\n",
       "      <th></th>\n",
       "      <th></th>\n",
       "      <th></th>\n",
       "      <th></th>\n",
       "      <th></th>\n",
       "      <th></th>\n",
       "      <th></th>\n",
       "      <th></th>\n",
       "      <th></th>\n",
       "      <th></th>\n",
       "      <th></th>\n",
       "      <th></th>\n",
       "      <th></th>\n",
       "      <th></th>\n",
       "      <th></th>\n",
       "      <th></th>\n",
       "      <th></th>\n",
       "    </tr>\n",
       "  </thead>\n",
       "  <tbody>\n",
       "    <tr>\n",
       "      <th>0006a69f</th>\n",
       "      <td>0.0</td>\n",
       "      <td>1910.0</td>\n",
       "      <td>4.0</td>\n",
       "      <td>1887.0</td>\n",
       "      <td>2.0</td>\n",
       "      <td>295.0</td>\n",
       "      <td>203.0</td>\n",
       "      <td>0.0</td>\n",
       "      <td>119.0</td>\n",
       "      <td>293.0</td>\n",
       "      <td>...</td>\n",
       "      <td>2.0</td>\n",
       "      <td>2.0</td>\n",
       "      <td>148.0</td>\n",
       "      <td>4.0</td>\n",
       "      <td>1771.0</td>\n",
       "      <td>261.0</td>\n",
       "      <td>37.0</td>\n",
       "      <td>1732.0</td>\n",
       "      <td>859641762</td>\n",
       "      <td>3</td>\n",
       "    </tr>\n",
       "    <tr>\n",
       "      <th>0006c192</th>\n",
       "      <td>207.0</td>\n",
       "      <td>1343.0</td>\n",
       "      <td>4.0</td>\n",
       "      <td>670.0</td>\n",
       "      <td>1.0</td>\n",
       "      <td>0.0</td>\n",
       "      <td>0.0</td>\n",
       "      <td>2.0</td>\n",
       "      <td>200.0</td>\n",
       "      <td>250.0</td>\n",
       "      <td>...</td>\n",
       "      <td>1.0</td>\n",
       "      <td>2.0</td>\n",
       "      <td>43.0</td>\n",
       "      <td>4.0</td>\n",
       "      <td>1206.0</td>\n",
       "      <td>343.0</td>\n",
       "      <td>32.0</td>\n",
       "      <td>643.0</td>\n",
       "      <td>434685248</td>\n",
       "      <td>0</td>\n",
       "    </tr>\n",
       "    <tr>\n",
       "      <th>00129856</th>\n",
       "      <td>201.0</td>\n",
       "      <td>319.0</td>\n",
       "      <td>0.0</td>\n",
       "      <td>310.0</td>\n",
       "      <td>0.0</td>\n",
       "      <td>0.0</td>\n",
       "      <td>0.0</td>\n",
       "      <td>1.0</td>\n",
       "      <td>40.0</td>\n",
       "      <td>219.0</td>\n",
       "      <td>...</td>\n",
       "      <td>0.0</td>\n",
       "      <td>0.0</td>\n",
       "      <td>0.0</td>\n",
       "      <td>0.0</td>\n",
       "      <td>786.0</td>\n",
       "      <td>43.0</td>\n",
       "      <td>1.0</td>\n",
       "      <td>0.0</td>\n",
       "      <td>59203070</td>\n",
       "      <td>3</td>\n",
       "    </tr>\n",
       "    <tr>\n",
       "      <th>001d0ed0</th>\n",
       "      <td>373.0</td>\n",
       "      <td>281.0</td>\n",
       "      <td>1.0</td>\n",
       "      <td>373.0</td>\n",
       "      <td>0.0</td>\n",
       "      <td>0.0</td>\n",
       "      <td>0.0</td>\n",
       "      <td>2.0</td>\n",
       "      <td>51.0</td>\n",
       "      <td>0.0</td>\n",
       "      <td>...</td>\n",
       "      <td>2.0</td>\n",
       "      <td>2.0</td>\n",
       "      <td>0.0</td>\n",
       "      <td>1.0</td>\n",
       "      <td>76.0</td>\n",
       "      <td>202.0</td>\n",
       "      <td>38.0</td>\n",
       "      <td>712.0</td>\n",
       "      <td>70143524</td>\n",
       "      <td>3</td>\n",
       "    </tr>\n",
       "    <tr>\n",
       "      <th>00225f67</th>\n",
       "      <td>316.0</td>\n",
       "      <td>0.0</td>\n",
       "      <td>1.0</td>\n",
       "      <td>640.0</td>\n",
       "      <td>1.0</td>\n",
       "      <td>37.0</td>\n",
       "      <td>122.0</td>\n",
       "      <td>1.0</td>\n",
       "      <td>37.0</td>\n",
       "      <td>0.0</td>\n",
       "      <td>...</td>\n",
       "      <td>1.0</td>\n",
       "      <td>1.0</td>\n",
       "      <td>0.0</td>\n",
       "      <td>1.0</td>\n",
       "      <td>291.0</td>\n",
       "      <td>65.0</td>\n",
       "      <td>15.0</td>\n",
       "      <td>586.0</td>\n",
       "      <td>66915354</td>\n",
       "      <td>0</td>\n",
       "    </tr>\n",
       "  </tbody>\n",
       "</table>\n",
       "<p>5 rows × 54 columns</p>\n",
       "</div>"
      ],
      "text/plain": [
       "                 dummy_CRYSTALCAVES  dummy_MAGMAPEAK  dummy_NONE  \\\n",
       "installation_id                                                    \n",
       "0006a69f                        0.0           1910.0         4.0   \n",
       "0006c192                      207.0           1343.0         4.0   \n",
       "00129856                      201.0            319.0         0.0   \n",
       "001d0ed0                      373.0            281.0         1.0   \n",
       "00225f67                      316.0              0.0         1.0   \n",
       "\n",
       "                 dummy_TREETOPCITY  dummy_12 Monkeys  dummy_Air Show  \\\n",
       "installation_id                                                        \n",
       "0006a69f                    1887.0               2.0           295.0   \n",
       "0006c192                     670.0               1.0             0.0   \n",
       "00129856                     310.0               0.0             0.0   \n",
       "001d0ed0                     373.0               0.0             0.0   \n",
       "00225f67                     640.0               1.0            37.0   \n",
       "\n",
       "                 dummy_All Star Sorting  dummy_Balancing Act  \\\n",
       "installation_id                                                \n",
       "0006a69f                          203.0                  0.0   \n",
       "0006c192                            0.0                  2.0   \n",
       "00129856                            0.0                  1.0   \n",
       "001d0ed0                            0.0                  2.0   \n",
       "00225f67                          122.0                  1.0   \n",
       "\n",
       "                 dummy_Bird Measurer (Assessment)  \\\n",
       "installation_id                                     \n",
       "0006a69f                                    119.0   \n",
       "0006c192                                    200.0   \n",
       "00129856                                     40.0   \n",
       "001d0ed0                                     51.0   \n",
       "00225f67                                     37.0   \n",
       "\n",
       "                 dummy_Bottle Filler (Activity)  ...  \\\n",
       "installation_id                                  ...   \n",
       "0006a69f                                  293.0  ...   \n",
       "0006c192                                  250.0  ...   \n",
       "00129856                                  219.0  ...   \n",
       "001d0ed0                                    0.0  ...   \n",
       "00225f67                                    0.0  ...   \n",
       "\n",
       "                 dummy_Tree Top City - Level 2  dummy_Tree Top City - Level 3  \\\n",
       "installation_id                                                                 \n",
       "0006a69f                                   2.0                            2.0   \n",
       "0006c192                                   1.0                            2.0   \n",
       "00129856                                   0.0                            0.0   \n",
       "001d0ed0                                   2.0                            2.0   \n",
       "00225f67                                   1.0                            1.0   \n",
       "\n",
       "                 dummy_Watering Hole (Activity)  \\\n",
       "installation_id                                   \n",
       "0006a69f                                  148.0   \n",
       "0006c192                                   43.0   \n",
       "00129856                                    0.0   \n",
       "001d0ed0                                    0.0   \n",
       "00225f67                                    0.0   \n",
       "\n",
       "                 dummy_Welcome to Lost Lagoon!  dummy_Activity  \\\n",
       "installation_id                                                  \n",
       "0006a69f                                   4.0          1771.0   \n",
       "0006c192                                   4.0          1206.0   \n",
       "00129856                                   0.0           786.0   \n",
       "001d0ed0                                   1.0            76.0   \n",
       "00225f67                                   1.0           291.0   \n",
       "\n",
       "                 dummy_Assessment  dummy_Clip  dummy_Game  event_count_total  \\\n",
       "installation_id                                                                \n",
       "0006a69f                    261.0        37.0      1732.0          859641762   \n",
       "0006c192                    343.0        32.0       643.0          434685248   \n",
       "00129856                     43.0         1.0         0.0           59203070   \n",
       "001d0ed0                    202.0        38.0       712.0           70143524   \n",
       "00225f67                     65.0        15.0       586.0           66915354   \n",
       "\n",
       "                 Y_target  \n",
       "installation_id            \n",
       "0006a69f                3  \n",
       "0006c192                0  \n",
       "00129856                3  \n",
       "001d0ed0                3  \n",
       "00225f67                0  \n",
       "\n",
       "[5 rows x 54 columns]"
      ]
     },
     "execution_count": 21,
     "metadata": {},
     "output_type": "execute_result"
    }
   ],
   "source": [
    "X_train.head()"
   ]
  },
  {
   "cell_type": "markdown",
   "metadata": {},
   "source": [
    "# Model"
   ]
  },
  {
   "cell_type": "code",
   "execution_count": 22,
   "metadata": {},
   "outputs": [
    {
     "data": {
      "text/plain": [
       "((54,), (53,))"
      ]
     },
     "execution_count": 22,
     "metadata": {},
     "output_type": "execute_result"
    }
   ],
   "source": [
    "X_train.columns.shape, X_test.columns.shape"
   ]
  },
  {
   "cell_type": "code",
   "execution_count": 23,
   "metadata": {},
   "outputs": [],
   "source": [
    "# Setting target & features\n",
    "y = X_train.Y_target\n",
    "feature_names = X_train.columns.drop('Y_target')\n",
    "X = X_train[feature_names]"
   ]
  },
  {
   "cell_type": "code",
   "execution_count": 24,
   "metadata": {},
   "outputs": [
    {
     "name": "stdout",
     "output_type": "stream",
     "text": [
      "0.4668141592920354\n"
     ]
    },
    {
     "name": "stderr",
     "output_type": "stream",
     "text": [
      "/opt/conda/lib/python3.6/site-packages/sklearn/ensemble/forest.py:245: FutureWarning: The default value of n_estimators will change from 10 in version 0.20 to 100 in 0.22.\n",
      "  \"10 in version 0.20 to 100 in 0.22.\", FutureWarning)\n"
     ]
    }
   ],
   "source": [
    "# RandomForest\n",
    "\n",
    "from sklearn.model_selection import train_test_split\n",
    "train_X, val_X, train_y, val_y = train_test_split(X, y, random_state = 0)\n",
    "\n",
    "from sklearn.ensemble import RandomForestClassifier\n",
    "from sklearn.metrics import accuracy_score\n",
    "\n",
    "forest_model = RandomForestClassifier(random_state = 1)\n",
    "forest_model.fit(train_X, train_y)\n",
    "rfc_preds = forest_model.predict(val_X)\n",
    "\n",
    "# Save RandomForest accuracy\n",
    "rfc_score = accuracy_score(val_y, rfc_preds)\n",
    "print(accuracy_score(val_y, rfc_preds))"
   ]
  },
  {
   "cell_type": "code",
   "execution_count": 25,
   "metadata": {},
   "outputs": [
    {
     "name": "stdout",
     "output_type": "stream",
     "text": [
      "0.5331858407079646\n"
     ]
    }
   ],
   "source": [
    "# XGBoost\n",
    "\n",
    "from sklearn.model_selection import train_test_split\n",
    "train_X, val_X, train_y, val_y = train_test_split(X, y, random_state = 0)\n",
    "\n",
    "import xgboost as xgb\n",
    "from sklearn.metrics import accuracy_score\n",
    "\n",
    "xgb_model = XGBClassifier(max_depth = 5, learning_rate = 0.01, n_estimators = 2000, n_jobs = -1, colsample_bytree = 0.1)\n",
    "xgb_model.fit(train_X, train_y)\n",
    "xgb_preds = xgb_model.predict(val_X)\n",
    "\n",
    "# Save XGBoost accuracy\n",
    "xgb_score = accuracy_score(val_y, xgb_preds)\n",
    "print(accuracy_score(val_y, xgb_preds))"
   ]
  },
  {
   "cell_type": "markdown",
   "metadata": {},
   "source": [
    "# Submission"
   ]
  },
  {
   "cell_type": "code",
   "execution_count": 26,
   "metadata": {},
   "outputs": [
    {
     "data": {
      "text/html": [
       "<div>\n",
       "<style scoped>\n",
       "    .dataframe tbody tr th:only-of-type {\n",
       "        vertical-align: middle;\n",
       "    }\n",
       "\n",
       "    .dataframe tbody tr th {\n",
       "        vertical-align: top;\n",
       "    }\n",
       "\n",
       "    .dataframe thead th {\n",
       "        text-align: right;\n",
       "    }\n",
       "</style>\n",
       "<table border=\"1\" class=\"dataframe\">\n",
       "  <thead>\n",
       "    <tr style=\"text-align: right;\">\n",
       "      <th></th>\n",
       "      <th>installation_id</th>\n",
       "      <th>accuracy_group</th>\n",
       "    </tr>\n",
       "  </thead>\n",
       "  <tbody>\n",
       "    <tr>\n",
       "      <th>0</th>\n",
       "      <td>00abaee7</td>\n",
       "      <td>3</td>\n",
       "    </tr>\n",
       "    <tr>\n",
       "      <th>1</th>\n",
       "      <td>01242218</td>\n",
       "      <td>3</td>\n",
       "    </tr>\n",
       "    <tr>\n",
       "      <th>2</th>\n",
       "      <td>017c5718</td>\n",
       "      <td>3</td>\n",
       "    </tr>\n",
       "    <tr>\n",
       "      <th>3</th>\n",
       "      <td>01a44906</td>\n",
       "      <td>3</td>\n",
       "    </tr>\n",
       "    <tr>\n",
       "      <th>4</th>\n",
       "      <td>01bc6cb6</td>\n",
       "      <td>3</td>\n",
       "    </tr>\n",
       "  </tbody>\n",
       "</table>\n",
       "</div>"
      ],
      "text/plain": [
       "  installation_id  accuracy_group\n",
       "0        00abaee7               3\n",
       "1        01242218               3\n",
       "2        017c5718               3\n",
       "3        01a44906               3\n",
       "4        01bc6cb6               3"
      ]
     },
     "execution_count": 26,
     "metadata": {},
     "output_type": "execute_result"
    }
   ],
   "source": [
    "submission.head()"
   ]
  },
  {
   "cell_type": "code",
   "execution_count": 27,
   "metadata": {},
   "outputs": [
    {
     "data": {
      "text/html": [
       "<div>\n",
       "<style scoped>\n",
       "    .dataframe tbody tr th:only-of-type {\n",
       "        vertical-align: middle;\n",
       "    }\n",
       "\n",
       "    .dataframe tbody tr th {\n",
       "        vertical-align: top;\n",
       "    }\n",
       "\n",
       "    .dataframe thead th {\n",
       "        text-align: right;\n",
       "    }\n",
       "</style>\n",
       "<table border=\"1\" class=\"dataframe\">\n",
       "  <thead>\n",
       "    <tr style=\"text-align: right;\">\n",
       "      <th></th>\n",
       "      <th>installation_id</th>\n",
       "      <th>accuracy_group</th>\n",
       "    </tr>\n",
       "  </thead>\n",
       "  <tbody>\n",
       "    <tr>\n",
       "      <th>0</th>\n",
       "      <td>00abaee7</td>\n",
       "      <td>3</td>\n",
       "    </tr>\n",
       "    <tr>\n",
       "      <th>1</th>\n",
       "      <td>01242218</td>\n",
       "      <td>3</td>\n",
       "    </tr>\n",
       "    <tr>\n",
       "      <th>2</th>\n",
       "      <td>017c5718</td>\n",
       "      <td>3</td>\n",
       "    </tr>\n",
       "    <tr>\n",
       "      <th>3</th>\n",
       "      <td>01a44906</td>\n",
       "      <td>3</td>\n",
       "    </tr>\n",
       "    <tr>\n",
       "      <th>4</th>\n",
       "      <td>01bc6cb6</td>\n",
       "      <td>3</td>\n",
       "    </tr>\n",
       "    <tr>\n",
       "      <th>...</th>\n",
       "      <td>...</td>\n",
       "      <td>...</td>\n",
       "    </tr>\n",
       "    <tr>\n",
       "      <th>995</th>\n",
       "      <td>fee254cf</td>\n",
       "      <td>3</td>\n",
       "    </tr>\n",
       "    <tr>\n",
       "      <th>996</th>\n",
       "      <td>ff57e602</td>\n",
       "      <td>3</td>\n",
       "    </tr>\n",
       "    <tr>\n",
       "      <th>997</th>\n",
       "      <td>ffc73fb2</td>\n",
       "      <td>3</td>\n",
       "    </tr>\n",
       "    <tr>\n",
       "      <th>998</th>\n",
       "      <td>ffe00ca8</td>\n",
       "      <td>3</td>\n",
       "    </tr>\n",
       "    <tr>\n",
       "      <th>999</th>\n",
       "      <td>ffe774cc</td>\n",
       "      <td>3</td>\n",
       "    </tr>\n",
       "  </tbody>\n",
       "</table>\n",
       "<p>1000 rows × 2 columns</p>\n",
       "</div>"
      ],
      "text/plain": [
       "    installation_id  accuracy_group\n",
       "0          00abaee7               3\n",
       "1          01242218               3\n",
       "2          017c5718               3\n",
       "3          01a44906               3\n",
       "4          01bc6cb6               3\n",
       "..              ...             ...\n",
       "995        fee254cf               3\n",
       "996        ff57e602               3\n",
       "997        ffc73fb2               3\n",
       "998        ffe00ca8               3\n",
       "999        ffe774cc               3\n",
       "\n",
       "[1000 rows x 2 columns]"
      ]
     },
     "execution_count": 27,
     "metadata": {},
     "output_type": "execute_result"
    }
   ],
   "source": [
    "xgb_preds = xgb_model.predict(X_test)\n",
    "submission['accuracy_group'] = xgb_preds\n",
    "submission.to_csv(\"submission.csv\", index = False)\n",
    "submission.head(2)"
   ]
  },
  {
   "cell_type": "markdown",
   "metadata": {},
   "source": [
    "# Summary\n",
    "\n",
    "XGBoost is a marginal winner\n",
    "Gives LB value of 0.125 of QWK"
   ]
  }
 ],
 "metadata": {
  "kernelspec": {
   "display_name": "Python 3",
   "language": "python",
   "name": "python3"
  },
  "language_info": {
   "codemirror_mode": {
    "name": "ipython",
    "version": 3
   },
   "file_extension": ".py",
   "mimetype": "text/x-python",
   "name": "python",
   "nbconvert_exporter": "python",
   "pygments_lexer": "ipython3",
   "version": "3.7.1"
  }
 },
 "nbformat": 4,
 "nbformat_minor": 1
}
